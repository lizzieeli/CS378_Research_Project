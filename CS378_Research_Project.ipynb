{
  "nbformat": 4,
  "nbformat_minor": 0,
  "metadata": {
    "colab": {
      "provenance": [],
      "include_colab_link": true
    },
    "kernelspec": {
      "name": "python3",
      "display_name": "Python 3"
    },
    "language_info": {
      "name": "python"
    }
  },
  "cells": [
    {
      "cell_type": "markdown",
      "metadata": {
        "id": "view-in-github",
        "colab_type": "text"
      },
      "source": [
        "<a href=\"https://colab.research.google.com/github/lizzieeli/CS378_Research_Project/blob/main/CS378_Research_Project.ipynb\" target=\"_parent\"><img src=\"https://colab.research.google.com/assets/colab-badge.svg\" alt=\"Open In Colab\"/></a>"
      ]
    },
    {
      "cell_type": "code",
      "source": [],
      "metadata": {
        "id": "6TZbymD2JVoc"
      },
      "execution_count": null,
      "outputs": []
    },
    {
      "cell_type": "code",
      "source": [
        "import sys\n",
        "from codecarbon import track_emissions\n",
        "@track_emissions()\n",
        "def your_function_to_track():\n",
        "  total = 0\n",
        "  for i in range(1, 2):\n",
        "    total += i\n",
        "  print(total)\n",
        "  print(\"is git working\")\n",
        "\n",
        "your_function_to_track()"
      ],
      "metadata": {
        "id": "2pL1uE5qFrkc",
        "colab": {
          "base_uri": "https://localhost:8080/"
        },
        "outputId": "21dc1bfd-3af0-49f1-bcd1-cab0c626dde4"
      },
      "execution_count": null,
      "outputs": [
        {
          "output_type": "stream",
          "name": "stderr",
          "text": [
            "[codecarbon WARNING @ 22:09:12] Multiple instances of codecarbon are allowed to run at the same time.\n",
            "[codecarbon INFO @ 22:09:12] [setup] RAM Tracking...\n",
            "[codecarbon INFO @ 22:09:12] [setup] CPU Tracking...\n",
            "[codecarbon WARNING @ 22:09:13] We saw that you have a Intel(R) Xeon(R) CPU @ 2.20GHz but we don't know it. Please contact us.\n",
            "[codecarbon WARNING @ 22:09:13] No CPU tracking mode found. Falling back on estimation based on TDP for CPU. \n",
            " Linux OS detected: Please ensure RAPL files exist at /sys/class/powercap/intel-rapl/subsystem to measure CPU\n",
            "\n",
            "[codecarbon INFO @ 22:09:13] CPU Model on constant consumption mode: Intel(R) Xeon(R) CPU @ 2.20GHz\n",
            "[codecarbon WARNING @ 22:09:13] No CPU tracking mode found. Falling back on CPU constant mode.\n",
            "[codecarbon INFO @ 22:09:13] [setup] GPU Tracking...\n",
            "[codecarbon INFO @ 22:09:13] No GPU found.\n",
            "[codecarbon INFO @ 22:09:13] The below tracking methods have been set up:\n",
            "                RAM Tracking Method: RAM power estimation model\n",
            "                CPU Tracking Method: global constant\n",
            "                GPU Tracking Method: Unspecified\n",
            "            \n",
            "[codecarbon INFO @ 22:09:13] >>> Tracker's metadata:\n",
            "[codecarbon INFO @ 22:09:13]   Platform system: Linux-6.6.97+-x86_64-with-glibc2.35\n",
            "[codecarbon INFO @ 22:09:13]   Python version: 3.12.11\n",
            "[codecarbon INFO @ 22:09:13]   CodeCarbon version: 3.0.5\n",
            "[codecarbon INFO @ 22:09:13]   Available RAM : 12.671 GB\n",
            "[codecarbon INFO @ 22:09:13]   CPU count: 2 thread(s) in 1 physical CPU(s)\n",
            "[codecarbon INFO @ 22:09:13]   CPU model: Intel(R) Xeon(R) CPU @ 2.20GHz\n",
            "[codecarbon INFO @ 22:09:13]   GPU count: None\n",
            "[codecarbon INFO @ 22:09:13]   GPU model: None\n",
            "[codecarbon INFO @ 22:09:13] Emissions data (if any) will be saved to file /content/emissions.csv\n",
            "[codecarbon INFO @ 22:09:13] \n",
            "Graceful stopping: collecting and writing information.\n",
            "Please wait a few seconds...\n",
            "[codecarbon INFO @ 22:09:13] Energy consumed for RAM : 0.000000 kWh. RAM Power : 10.0 W\n",
            "[codecarbon INFO @ 22:09:13] Delta energy consumed for CPU with constant : 0.000000 kWh, power : 42.5 W\n",
            "[codecarbon INFO @ 22:09:13] Energy consumed for All CPU : 0.000000 kWh\n",
            "[codecarbon INFO @ 22:09:13] 0.000000 kWh of electricity used since the beginning.\n",
            "[codecarbon INFO @ 22:09:13] Done!\n",
            "\n"
          ]
        },
        {
          "output_type": "stream",
          "name": "stdout",
          "text": [
            "1\n",
            "is this working\n"
          ]
        }
      ]
    }
  ]
}