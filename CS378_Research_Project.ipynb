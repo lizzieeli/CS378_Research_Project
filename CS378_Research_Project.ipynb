{
  "nbformat": 4,
  "nbformat_minor": 0,
  "metadata": {
    "colab": {
      "provenance": [],
      "include_colab_link": true
    },
    "kernelspec": {
      "name": "python3",
      "display_name": "Python 3"
    },
    "language_info": {
      "name": "python"
    }
  },
  "cells": [
    {
      "cell_type": "markdown",
      "metadata": {
        "id": "view-in-github",
        "colab_type": "text"
      },
      "source": [
        "<a href=\"https://colab.research.google.com/github/lizzieeli/CS378_Research_Project/blob/main/CS378_Research_Project.ipynb\" target=\"_parent\"><img src=\"https://colab.research.google.com/assets/colab-badge.svg\" alt=\"Open In Colab\"/></a>"
      ]
    },
    {
      "cell_type": "code",
      "source": [],
      "metadata": {
        "id": "6TZbymD2JVoc"
      },
      "execution_count": null,
      "outputs": []
    },
    {
      "cell_type": "code",
      "source": [
        "from codecarbon import track_emissions\n",
        "@track_emissions()\n",
        "def your_function_to_track():\n",
        "    print(\"Hi\")"
      ],
      "metadata": {
        "id": "2pL1uE5qFrkc"
      },
      "execution_count": 18,
      "outputs": []
    },
    {
      "cell_type": "code",
      "source": [
        "import os\n",
        "os.chdir('/content')\n",
        "your_function_to_track()"
      ],
      "metadata": {
        "id": "fGfPuVZGJV6n",
        "colab": {
          "base_uri": "https://localhost:8080/"
        },
        "outputId": "f21becd5-5f75-471a-e8f0-06044cf89129"
      },
      "execution_count": 20,
      "outputs": [
        {
          "output_type": "stream",
          "name": "stderr",
          "text": [
            "[codecarbon WARNING @ 21:36:59] Multiple instances of codecarbon are allowed to run at the same time.\n",
            "[codecarbon INFO @ 21:36:59] [setup] RAM Tracking...\n",
            "[codecarbon INFO @ 21:36:59] [setup] CPU Tracking...\n",
            "[codecarbon WARNING @ 21:37:00] We saw that you have a Intel(R) Xeon(R) CPU @ 2.20GHz but we don't know it. Please contact us.\n",
            "[codecarbon WARNING @ 21:37:00] No CPU tracking mode found. Falling back on estimation based on TDP for CPU. \n",
            " Linux OS detected: Please ensure RAPL files exist at /sys/class/powercap/intel-rapl/subsystem to measure CPU\n",
            "\n",
            "[codecarbon INFO @ 21:37:00] CPU Model on constant consumption mode: Intel(R) Xeon(R) CPU @ 2.20GHz\n",
            "[codecarbon WARNING @ 21:37:00] No CPU tracking mode found. Falling back on CPU constant mode.\n",
            "[codecarbon INFO @ 21:37:00] [setup] GPU Tracking...\n",
            "[codecarbon INFO @ 21:37:00] No GPU found.\n",
            "[codecarbon INFO @ 21:37:00] The below tracking methods have been set up:\n",
            "                RAM Tracking Method: RAM power estimation model\n",
            "                CPU Tracking Method: global constant\n",
            "                GPU Tracking Method: Unspecified\n",
            "            \n",
            "[codecarbon INFO @ 21:37:00] >>> Tracker's metadata:\n",
            "[codecarbon INFO @ 21:37:00]   Platform system: Linux-6.6.97+-x86_64-with-glibc2.35\n",
            "[codecarbon INFO @ 21:37:00]   Python version: 3.12.11\n",
            "[codecarbon INFO @ 21:37:00]   CodeCarbon version: 3.0.5\n",
            "[codecarbon INFO @ 21:37:00]   Available RAM : 12.671 GB\n",
            "[codecarbon INFO @ 21:37:00]   CPU count: 2 thread(s) in 1 physical CPU(s)\n",
            "[codecarbon INFO @ 21:37:00]   CPU model: Intel(R) Xeon(R) CPU @ 2.20GHz\n",
            "[codecarbon INFO @ 21:37:00]   GPU count: None\n",
            "[codecarbon INFO @ 21:37:00]   GPU model: None\n",
            "[codecarbon INFO @ 21:37:00] Emissions data (if any) will be saved to file /content/emissions.csv\n",
            "[codecarbon INFO @ 21:37:00] \n",
            "Graceful stopping: collecting and writing information.\n",
            "Please wait a few seconds...\n",
            "[codecarbon INFO @ 21:37:00] Energy consumed for RAM : 0.000000 kWh. RAM Power : 10.0 W\n",
            "[codecarbon INFO @ 21:37:00] Delta energy consumed for CPU with constant : 0.000000 kWh, power : 42.5 W\n",
            "[codecarbon INFO @ 21:37:00] Energy consumed for All CPU : 0.000000 kWh\n",
            "[codecarbon INFO @ 21:37:00] 0.000000 kWh of electricity used since the beginning.\n",
            "[codecarbon INFO @ 21:37:00] Done!\n",
            "\n"
          ]
        },
        {
          "output_type": "stream",
          "name": "stdout",
          "text": [
            "Hi\n"
          ]
        }
      ]
    }
  ]
}