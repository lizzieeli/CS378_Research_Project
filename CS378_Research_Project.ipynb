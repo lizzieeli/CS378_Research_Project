{
  "nbformat": 4,
  "nbformat_minor": 0,
  "metadata": {
    "colab": {
      "provenance": [],
      "authorship_tag": "ABX9TyPhqbofOj3/3xF5VNtj0xWm",
      "include_colab_link": true
    },
    "kernelspec": {
      "name": "python3",
      "display_name": "Python 3"
    },
    "language_info": {
      "name": "python"
    }
  },
  "cells": [
    {
      "cell_type": "markdown",
      "metadata": {
        "id": "view-in-github",
        "colab_type": "text"
      },
      "source": [
        "<a href=\"https://colab.research.google.com/github/lizzieeli/CS378_Research_Project/blob/main/CS378_Research_Project.ipynb\" target=\"_parent\"><img src=\"https://colab.research.google.com/assets/colab-badge.svg\" alt=\"Open In Colab\"/></a>"
      ]
    },
    {
      "cell_type": "code",
      "source": [
        "from codecarbon import track_emissions\n",
        "@track_emissions()\n",
        "def your_function_to_track():\n",
        "    pass"
      ],
      "metadata": {
        "id": "2pL1uE5qFrkc"
      },
      "execution_count": 15,
      "outputs": []
    }
  ]
}